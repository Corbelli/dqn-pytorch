{
 "cells": [
  {
   "cell_type": "markdown",
   "metadata": {},
   "source": [
    "# Training\n"
   ]
  },
  {
   "cell_type": "code",
   "execution_count": 1,
   "metadata": {},
   "outputs": [],
   "source": [
    "%matplotlib inline\n",
    "from unityagents import UnityEnvironment\n",
    "import numpy as np"
   ]
  },
  {
   "cell_type": "code",
   "execution_count": 2,
   "metadata": {},
   "outputs": [
    {
     "name": "stderr",
     "output_type": "stream",
     "text": [
      "INFO:unityagents:\n",
      "'Academy' started successfully!\n",
      "Unity Academy name: Academy\n",
      "        Number of Brains: 1\n",
      "        Number of External Brains : 1\n",
      "        Lesson number : 0\n",
      "        Reset Parameters :\n",
      "\t\t\n",
      "Unity brain name: BananaBrain\n",
      "        Number of Visual Observations (per agent): 0\n",
      "        Vector Observation space type: continuous\n",
      "        Vector Observation space size (per agent): 37\n",
      "        Number of stacked Vector Observation: 1\n",
      "        Vector Action space type: discrete\n",
      "        Vector Action space size (per agent): 4\n",
      "        Vector Action descriptions: , , , \n"
     ]
    }
   ],
   "source": [
    "env = UnityEnvironment(file_name=\"Environments/Banana_Linux_NoVis/Banana.x86_64\")\n",
    "# get the default brain\n",
    "brain_name = env.brain_names[0]\n",
    "brain = env.brains[brain_name]"
   ]
  },
  {
   "cell_type": "code",
   "execution_count": null,
   "metadata": {},
   "outputs": [
    {
     "name": "stdout",
     "output_type": "stream",
     "text": [
      "Episode 20\tAverage Score: -0.10\n",
      "Episode 40\tAverage Score: 0.153\n",
      "Episode 60\tAverage Score: 0.18\n",
      "Episode 80\tAverage Score: 0.26\n",
      "Episode 100\tAverage Score: 0.57\n",
      "Episode 120\tAverage Score: 0.76\n",
      "Episode 140\tAverage Score: 1.15\n",
      "Episode 160\tAverage Score: 1.64\n",
      "Episode 180\tAverage Score: 2.02\n",
      "Episode 200\tAverage Score: 2.49\n",
      "Episode 220\tAverage Score: 3.30\n",
      "Episode 240\tAverage Score: 3.96\n",
      "Episode 260\tAverage Score: 4.76\n",
      "Episode 280\tAverage Score: 5.52\n",
      "Episode 300\tAverage Score: 6.11\n",
      "Episode 320\tAverage Score: 6.91\n",
      "Episode 340\tAverage Score: 7.51\n",
      "Episode 360\tAverage Score: 8.36\n",
      "Episode 380\tAverage Score: 9.15\n",
      "Episode 400\tAverage Score: 10.06\n",
      "Episode 420\tAverage Score: 10.52\n",
      "Episode 440\tAverage Score: 11.25\n",
      "Episode 460\tAverage Score: 11.55\n",
      "Episode 480\tAverage Score: 12.26\n",
      "Episode 500\tAverage Score: 12.72\n",
      "Episode 507\tAverage Score: 12.74"
     ]
    }
   ],
   "source": [
    "from dqn import DDDQNAgent, Training\n",
    "\n",
    "agent = DDDQNAgent(state_size=37, action_size=4, seed=0, random_policy=False)\n",
    "training_setup = Training(n_episodes=1800, eps_start=1, eps_end=0.1, eps_decay=0.995)\n",
    "scores = training_setup.train(agent, env, brain_name, track_every=20, plot=False, weights='dddqn.pth')"
   ]
  },
  {
   "cell_type": "code",
   "execution_count": 4,
   "metadata": {},
   "outputs": [],
   "source": [
    "from dqn import Benchmarks\n",
    "\n",
    "bench = Benchmarks()\n",
    "bench.save_score('DDDQN', scores, 'Duelling Double DQN Scores with same NN as DQN except for the heads')"
   ]
  },
  {
   "cell_type": "code",
   "execution_count": null,
   "metadata": {},
   "outputs": [],
   "source": []
  }
 ],
 "metadata": {
  "kernelspec": {
   "display_name": "Python 3",
   "language": "python",
   "name": "python3"
  },
  "language_info": {
   "codemirror_mode": {
    "name": "ipython",
    "version": 3
   },
   "file_extension": ".py",
   "mimetype": "text/x-python",
   "name": "python",
   "nbconvert_exporter": "python",
   "pygments_lexer": "ipython3",
   "version": "3.6.9"
  }
 },
 "nbformat": 4,
 "nbformat_minor": 4
}
