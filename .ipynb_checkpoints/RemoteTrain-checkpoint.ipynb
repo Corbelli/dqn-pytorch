{
 "cells": [
  {
   "cell_type": "markdown",
   "metadata": {},
   "source": [
    "# Training\n"
   ]
  },
  {
   "cell_type": "code",
   "execution_count": 1,
   "metadata": {},
   "outputs": [],
   "source": [
    "%matplotlib inline\n",
    "from unityagents import UnityEnvironment\n",
    "import numpy as np"
   ]
  },
  {
   "cell_type": "code",
   "execution_count": 2,
   "metadata": {},
   "outputs": [
    {
     "name": "stderr",
     "output_type": "stream",
     "text": [
      "INFO:unityagents:\n",
      "'Academy' started successfully!\n",
      "Unity Academy name: Academy\n",
      "        Number of Brains: 1\n",
      "        Number of External Brains : 1\n",
      "        Lesson number : 0\n",
      "        Reset Parameters :\n",
      "\t\t\n",
      "Unity brain name: BananaBrain\n",
      "        Number of Visual Observations (per agent): 0\n",
      "        Vector Observation space type: continuous\n",
      "        Vector Observation space size (per agent): 37\n",
      "        Number of stacked Vector Observation: 1\n",
      "        Vector Action space type: discrete\n",
      "        Vector Action space size (per agent): 4\n",
      "        Vector Action descriptions: , , , \n"
     ]
    }
   ],
   "source": [
    "env = UnityEnvironment(file_name=\"Environments/Banana_Linux_NoVis/Banana.x86_64\")\n",
    "# get the default brain\n",
    "brain_name = env.brain_names[0]\n",
    "brain = env.brains[brain_name]"
   ]
  },
  {
   "cell_type": "code",
   "execution_count": 3,
   "metadata": {},
   "outputs": [
    {
     "name": "stdout",
     "output_type": "stream",
     "text": [
      "Episode 20\tAverage Score: 0.20\n",
      "Episode 40\tAverage Score: 0.003\n",
      "Episode 60\tAverage Score: 0.052\n",
      "Episode 80\tAverage Score: -0.01\n",
      "Episode 100\tAverage Score: -0.03\n",
      "Episode 120\tAverage Score: 0.002\n",
      "Episode 140\tAverage Score: 0.04\n",
      "Episode 160\tAverage Score: 0.07\n",
      "Episode 180\tAverage Score: 0.10\n",
      "Episode 200\tAverage Score: 0.09\n",
      "Episode 220\tAverage Score: 0.14\n",
      "Episode 240\tAverage Score: 0.15\n",
      "Episode 260\tAverage Score: 0.08\n",
      "Episode 280\tAverage Score: 0.04\n",
      "Episode 300\tAverage Score: 0.04\n",
      "Episode 320\tAverage Score: -0.07\n",
      "Episode 340\tAverage Score: -0.03\n",
      "Episode 360\tAverage Score: 0.061\n",
      "Episode 380\tAverage Score: 0.12\n",
      "Episode 400\tAverage Score: 0.04\n",
      "Episode 420\tAverage Score: -0.03\n",
      "Episode 440\tAverage Score: -0.03\n",
      "Episode 460\tAverage Score: -0.08\n",
      "Episode 480\tAverage Score: -0.12\n",
      "Episode 500\tAverage Score: -0.08\n",
      "Episode 520\tAverage Score: -0.03\n",
      "Episode 540\tAverage Score: -0.14\n",
      "Episode 560\tAverage Score: -0.14\n",
      "Episode 580\tAverage Score: -0.05\n",
      "Episode 600\tAverage Score: 0.011\n",
      "Episode 620\tAverage Score: 0.02\n",
      "Episode 640\tAverage Score: 0.10\n",
      "Episode 660\tAverage Score: 0.14\n",
      "Episode 680\tAverage Score: 0.06\n",
      "Episode 700\tAverage Score: 0.13\n",
      "Episode 720\tAverage Score: 0.17\n",
      "Episode 740\tAverage Score: 0.18\n",
      "Episode 760\tAverage Score: 0.09\n",
      "Episode 780\tAverage Score: 0.07\n",
      "Episode 800\tAverage Score: -0.01\n",
      "Episode 820\tAverage Score: -0.07\n",
      "Episode 840\tAverage Score: -0.07\n",
      "Episode 860\tAverage Score: -0.10\n",
      "Episode 880\tAverage Score: -0.06\n",
      "Episode 900\tAverage Score: -0.04\n",
      "Episode 920\tAverage Score: -0.11\n",
      "Episode 940\tAverage Score: -0.09\n",
      "Episode 960\tAverage Score: -0.03\n",
      "Episode 980\tAverage Score: -0.07\n",
      "Episode 1000\tAverage Score: 0.02\n"
     ]
    }
   ],
   "source": [
    "from dqn import DQNAgent, Training\n",
    "\n",
    "agent = DQNAgent(state_size=37, action_size=4, seed=0, random_policy=True)\n",
    "training_setup = Training(n_episodes=1000, eps_start=1, eps_end=0.1, eps_decay=0.995)\n",
    "scores = training_setup.train(agent, env, brain_name, track_every=20, plot=False, weights='random.pth')"
   ]
  },
  {
   "cell_type": "code",
   "execution_count": 5,
   "metadata": {},
   "outputs": [],
   "source": [
    "from dqn import Benchmarks\n",
    "\n",
    "bench = Benchmarks()\n",
    "bench.save_score('random', scores, 'Random Policy scores')"
   ]
  },
  {
   "cell_type": "code",
   "execution_count": null,
   "metadata": {},
   "outputs": [],
   "source": []
  }
 ],
 "metadata": {
  "kernelspec": {
   "display_name": "Python 3",
   "language": "python",
   "name": "python3"
  },
  "language_info": {
   "codemirror_mode": {
    "name": "ipython",
    "version": 3
   },
   "file_extension": ".py",
   "mimetype": "text/x-python",
   "name": "python",
   "nbconvert_exporter": "python",
   "pygments_lexer": "ipython3",
   "version": "3.6.9"
  }
 },
 "nbformat": 4,
 "nbformat_minor": 4
}
